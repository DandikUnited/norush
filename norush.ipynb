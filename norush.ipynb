{
 "cells": [
  {
   "cell_type": "code",
   "execution_count": 64,
   "metadata": {
    "collapsed": true
   },
   "outputs": [],
   "source": [
    "ZAPIER_EMAIL_HOOK = \n",
    "GMAPS_API_TOKEN = "
   ]
  },
  {
   "cell_type": "code",
   "execution_count": 141,
   "metadata": {
    "collapsed": true
   },
   "outputs": [],
   "source": [
    "start = '8925 Melrose Ave, West Hollywood, CA 90069'\n",
    "destination = '3747 South La Brea Ave, Los Angeles, CA 90016'"
   ]
  },
  {
   "cell_type": "code",
   "execution_count": 132,
   "metadata": {
    "collapsed": true
   },
   "outputs": [],
   "source": [
    "from IPython.display import display, HTML\n",
    "import googlemaps\n",
    "from datetime import datetime\n",
    "import requests\n",
    "from urllib.parse import urlparse\n",
    "import urllib.request as req"
   ]
  },
  {
   "cell_type": "code",
   "execution_count": 133,
   "metadata": {
    "collapsed": true
   },
   "outputs": [],
   "source": [
    "gmaps = googlemaps.Client(key=GMAPS_API_TOKEN)\n",
    "\n",
    "# Request directions via driving\n",
    "now = datetime.now()\n",
    "directions_result = gmaps.directions(start, destination, mode=\"driving\", departure_time=now)"
   ]
  },
  {
   "cell_type": "code",
   "execution_count": 134,
   "metadata": {},
   "outputs": [
    {
     "name": "stdout",
     "output_type": "stream",
     "text": [
      "dict_keys(['bounds', 'copyrights', 'legs', 'overview_polyline', 'summary', 'warnings', 'waypoint_order'])\n"
     ]
    }
   ],
   "source": [
    "routes = len(directions_result)\n",
    "for route in directions_result:\n",
    "    print(route.keys())\n",
    "duration = route['legs'][0]['duration']['text']\n",
    "distance = route['legs'][0]['distance']['text']\n",
    "steps = route['legs'][0]['steps']\n",
    "warnings = route['warnings']"
   ]
  },
  {
   "cell_type": "code",
   "execution_count": 136,
   "metadata": {},
   "outputs": [
    {
     "data": {
      "text/plain": [
       "[]"
      ]
     },
     "execution_count": 136,
     "metadata": {},
     "output_type": "execute_result"
    }
   ],
   "source": [
    "warnings"
   ]
  },
  {
   "cell_type": "code",
   "execution_count": 137,
   "metadata": {},
   "outputs": [
    {
     "data": {
      "text/html": [
       "Head <b>west</b> on <b>Melrose Ave</b> toward <b>N Almont Dr</b>"
      ],
      "text/plain": [
       "<IPython.core.display.HTML object>"
      ]
     },
     "metadata": {},
     "output_type": "display_data"
    },
    {
     "data": {
      "text/html": [
       "Turn <b>right</b> at the 1st cross street onto <b>N Almont Dr</b>"
      ],
      "text/plain": [
       "<IPython.core.display.HTML object>"
      ]
     },
     "metadata": {},
     "output_type": "display_data"
    },
    {
     "data": {
      "text/html": [
       "Turn <b>left</b> at the 1st cross street onto <b>Santa Monica Blvd</b>"
      ],
      "text/plain": [
       "<IPython.core.display.HTML object>"
      ]
     },
     "metadata": {},
     "output_type": "display_data"
    },
    {
     "data": {
      "text/html": [
       "Turn <b>right</b> onto <b>Wilshire Blvd</b>"
      ],
      "text/plain": [
       "<IPython.core.display.HTML object>"
      ]
     },
     "metadata": {},
     "output_type": "display_data"
    },
    {
     "data": {
      "text/html": [
       "Merge onto <b>I-405 N</b> via the ramp to <b>Sacramento</b>"
      ],
      "text/plain": [
       "<IPython.core.display.HTML object>"
      ]
     },
     "metadata": {},
     "output_type": "display_data"
    },
    {
     "data": {
      "text/html": [
       "Take the exit onto <b>US-101 N</b> toward <b>Ventura</b>"
      ],
      "text/plain": [
       "<IPython.core.display.HTML object>"
      ]
     },
     "metadata": {},
     "output_type": "display_data"
    },
    {
     "data": {
      "text/html": [
       "Take exit <b>27B</b> for <b>CA-27 S</b>/<b>Topanga Cyn Blvd</b>"
      ],
      "text/plain": [
       "<IPython.core.display.HTML object>"
      ]
     },
     "metadata": {},
     "output_type": "display_data"
    },
    {
     "data": {
      "text/html": [
       "Merge onto <b>CA-27 S</b>/<b>Topanga Canyon Blvd</b><div style=\"font-size:0.9em\">Pass by Chipotle Mexican Grill (on the left)</div><div style=\"font-size:0.9em\">Destination will be on the right</div>"
      ],
      "text/plain": [
       "<IPython.core.display.HTML object>"
      ]
     },
     "metadata": {},
     "output_type": "display_data"
    }
   ],
   "source": [
    "steps_to_get_there = ''\n",
    "i = 0\n",
    "for step in steps:\n",
    "    i+=1\n",
    "    steps_to_get_there += str(i) +' - '+ step['html_instructions'] + '<br>'\n",
    "    display(HTML(step['html_instructions']))"
   ]
  },
  {
   "cell_type": "code",
   "execution_count": 138,
   "metadata": {},
   "outputs": [
    {
     "data": {
      "text/html": [
       "1 - Head <b>west</b> on <b>Melrose Ave</b> toward <b>N Almont Dr</b><br>2 - Turn <b>right</b> at the 1st cross street onto <b>N Almont Dr</b><br>3 - Turn <b>left</b> at the 1st cross street onto <b>Santa Monica Blvd</b><br>4 - Turn <b>right</b> onto <b>Wilshire Blvd</b><br>5 - Merge onto <b>I-405 N</b> via the ramp to <b>Sacramento</b><br>6 - Take the exit onto <b>US-101 N</b> toward <b>Ventura</b><br>7 - Take exit <b>27B</b> for <b>CA-27 S</b>/<b>Topanga Cyn Blvd</b><br>8 - Merge onto <b>CA-27 S</b>/<b>Topanga Canyon Blvd</b><div style=\"font-size:0.9em\">Pass by Chipotle Mexican Grill (on the left)</div><div style=\"font-size:0.9em\">Destination will be on the right</div><br>"
      ],
      "text/plain": [
       "<IPython.core.display.HTML object>"
      ]
     },
     "metadata": {},
     "output_type": "display_data"
    }
   ],
   "source": [
    "display(HTML(steps_to_get_there))"
   ]
  },
  {
   "cell_type": "code",
   "execution_count": 139,
   "metadata": {
    "collapsed": true
   },
   "outputs": [],
   "source": [
    "message = \"Fastest route from {} to {} will take you {}. <br><br> {}\".format(start, destination, duration, steps_to_get_there)\n",
    "to_address = 'mbedi@yandex.com'"
   ]
  },
  {
   "cell_type": "code",
   "execution_count": 140,
   "metadata": {
    "collapsed": true
   },
   "outputs": [],
   "source": [
    "map_traffic = \"\"\"<img width=\"600\" src=\"https://maps.googleapis.com/maps/api/staticmap?size=600x400&path=enc%3A{}\">\"\"\".format(req.pathname2url(directions_result[0]['overview_polyline']['points']))"
   ]
  },
  {
   "cell_type": "code",
   "execution_count": 102,
   "metadata": {
    "collapsed": true
   },
   "outputs": [],
   "source": [
    "body = {\"text\": message, \"email\": to_address, \"traffic_map\":map_traffic}"
   ]
  },
  {
   "cell_type": "code",
   "execution_count": 103,
   "metadata": {},
   "outputs": [
    {
     "data": {
      "text/plain": [
       "<Response [200]>"
      ]
     },
     "execution_count": 103,
     "metadata": {},
     "output_type": "execute_result"
    }
   ],
   "source": [
    "requests.post(ZAPIER_EMAIL_HOOK, data=body)"
   ]
  },
  {
   "cell_type": "code",
   "execution_count": 106,
   "metadata": {},
   "outputs": [
    {
     "data": {
      "text/html": [
       "<img width=\"600\" src=\"https://maps.googleapis.com/maps/api/staticmap?size=600x400&path=enc%3A_l_oEhpqqUCsB%40eG%40_BCKgAkFc%40sBnC%7DA%60%40ObAq%40%5Ee%40rCuE%60AsA%60AcAz%40m%40d%40YrAg%40x%40QpAOvAODIZK%60Ac%40jCsAxEcCjCyAD%5BBy%40Dw%40LoBl%40AnACnBAHHbBCNCJI%5ECbB%40xDCbFGfUY%7CIGlCELJtB%40hB%3FnB%40pE%40%7EA%3FTGr%40%3Fn%40%3Fz%40%3FlH%3FtC%3FnFCtECdIAdG%3FtI%3FxC%3FzE%3FrA%40p%40JbJdBv%40Lp%40H%5C%3F%7E%40GfBe%40hAYdAO%60%40AP%40jAP%7CEx%40pB%5CdCb%40rB%5Ed%40BlAGlAGdAN%7CBZv%40LbC%5C%7C%40LBn%40GfAQ%7EBGTKPKFSBSEKIIQEUEs%40Cq%40Ci%40BiAJmBHo%40Fu%40TsAj%40iCfA%7BEb%40kBHa%40BABQDw%40D%7BC%3FiBFwANoBFo%40Ia%40fA_JRmAlBmOhAsId%40_GTqFD%7BC%3FwCEcDSoJFWBG%3FEA_AEsB%3FkJIwECwAB%5D%3FCF%7BCJo%40Nc%40f%40u%40h%40w%40HQF_ABKFQDGvBbAV%3FdB%7C%40rAt%40v%40T%7EBl%40pGjB%7CAh%40d%40VbGxDdDzBfAl%40x%40b%40tAn%40nCr%40xA%60%40fATfCTpBBxDArEEvHGrAA\">"
      ],
      "text/plain": [
       "<IPython.core.display.HTML object>"
      ]
     },
     "metadata": {},
     "output_type": "display_data"
    }
   ],
   "source": [
    "display(HTML(map_traffic))"
   ]
  },
  {
   "cell_type": "code",
   "execution_count": null,
   "metadata": {
    "collapsed": true
   },
   "outputs": [],
   "source": []
  }
 ],
 "metadata": {
  "kernelspec": {
   "display_name": "Python 3",
   "language": "python",
   "name": "python3"
  },
  "language_info": {
   "codemirror_mode": {
    "name": "ipython",
    "version": 3
   },
   "file_extension": ".py",
   "mimetype": "text/x-python",
   "name": "python",
   "nbconvert_exporter": "python",
   "pygments_lexer": "ipython3",
   "version": "3.6.3"
  }
 },
 "nbformat": 4,
 "nbformat_minor": 2
}
